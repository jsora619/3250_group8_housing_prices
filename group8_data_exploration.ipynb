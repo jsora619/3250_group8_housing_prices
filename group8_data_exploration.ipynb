{
  "nbformat": 4,
  "nbformat_minor": 0,
  "metadata": {
    "colab": {
      "name": "group8_data_exploration.ipynb",
      "provenance": [],
      "authorship_tag": "ABX9TyO98BTCC34ko5xvUbUaMzky",
      "include_colab_link": true
    },
    "kernelspec": {
      "name": "python3",
      "display_name": "Python 3"
    }
  },
  "cells": [
    {
      "cell_type": "markdown",
      "metadata": {
        "id": "view-in-github",
        "colab_type": "text"
      },
      "source": [
        "<a href=\"https://colab.research.google.com/github/mrivol/3250_group8_housing_prices/blob/master/group8_data_exploration.ipynb\" target=\"_parent\"><img src=\"https://colab.research.google.com/assets/colab-badge.svg\" alt=\"Open In Colab\"/></a>"
      ]
    },
    {
      "cell_type": "code",
      "metadata": {
        "id": "x3BEn0zSV0DY",
        "colab_type": "code",
        "colab": {}
      },
      "source": [
        "# Hi team!"
      ],
      "execution_count": 0,
      "outputs": []
    }
  ]
}